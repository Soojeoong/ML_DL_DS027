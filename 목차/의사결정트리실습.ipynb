{
 "cells": [
  {
   "cell_type": "markdown",
   "id": "d1fce180",
   "metadata": {},
   "source": [
    "# 실습 - 🌍서울 지역(강동, 강서, 강남, 강북) 다중 분류하기"
   ]
  },
  {
   "cell_type": "markdown",
   "id": "4a076eab",
   "metadata": {},
   "source": [
    "## 1. 문제 정의\n",
    "- 경도와 위도 정보 학습\n",
    "- 임의로 입력된 지역(동)을 강동, 강서, 강남, 강북으로 분류하는 모델 구현"
   ]
  },
  {
   "cell_type": "markdown",
   "id": "0a91afca",
   "metadata": {},
   "source": [
    "## 2. 데이터 획득\n",
    "- district : 행정 구역(서초구 , 송파구 등) - ~구\n",
    "- dong : ~동 (대치동, 도곡동 등)\n",
    "- latitude : 위도\n",
    "- longitude : 경도\n",
    "- label : 한강 기준으로 동,서,남,북으로 구분한 지역 명칭(강동, 강서, 강남, 강북)"
   ]
  },
  {
   "cell_type": "code",
   "execution_count": null,
   "id": "9d63c6ed",
   "metadata": {},
   "outputs": [],
   "source": []
  }
 ],
 "metadata": {
  "kernelspec": {
   "display_name": "Python 3 (ipykernel)",
   "language": "python",
   "name": "python3"
  },
  "language_info": {
   "codemirror_mode": {
    "name": "ipython",
    "version": 3
   },
   "file_extension": ".py",
   "mimetype": "text/x-python",
   "name": "python",
   "nbconvert_exporter": "python",
   "pygments_lexer": "ipython3",
   "version": "3.9.7"
  }
 },
 "nbformat": 4,
 "nbformat_minor": 5
}
