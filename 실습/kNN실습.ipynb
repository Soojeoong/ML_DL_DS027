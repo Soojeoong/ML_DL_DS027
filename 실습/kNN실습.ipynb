{
 "cells": [
  {
   "cell_type": "markdown",
   "id": "c865a960",
   "metadata": {},
   "source": [
    "# kNN 실습 - 농구선수의 게임 데이터를 활용한 포지션 예측"
   ]
  },
  {
   "cell_type": "markdown",
   "id": "ab3a99ae",
   "metadata": {},
   "source": [
    "## 1. 문제 정의"
   ]
  },
  {
   "cell_type": "markdown",
   "id": "0b487cce",
   "metadata": {},
   "source": [
    "NBA 농구선수들의 게임 기록을 데이터로 사용해 특정 농구선수의 포지션 예측하기"
   ]
  },
  {
   "cell_type": "markdown",
   "id": "291a3290",
   "metadata": {},
   "source": [
    "## 2. 데이터 획득"
   ]
  },
  {
   "cell_type": "markdown",
   "id": "b2590b59",
   "metadata": {},
   "source": [
    "2017년 NBA 농구선수의 실제 데이터 사용하기 -> 2017년도 NBA 선수 게임 통계에서 수집"
   ]
  },
  {
   "cell_type": "code",
   "execution_count": 2,
   "id": "b47af2ca",
   "metadata": {},
   "outputs": [],
   "source": [
    "import pandas as pd"
   ]
  },
  {
   "cell_type": "code",
   "execution_count": 3,
   "id": "466dd342",
   "metadata": {},
   "outputs": [
    {
     "data": {
      "text/html": [
       "<div>\n",
       "<style scoped>\n",
       "    .dataframe tbody tr th:only-of-type {\n",
       "        vertical-align: middle;\n",
       "    }\n",
       "\n",
       "    .dataframe tbody tr th {\n",
       "        vertical-align: top;\n",
       "    }\n",
       "\n",
       "    .dataframe thead th {\n",
       "        text-align: right;\n",
       "    }\n",
       "</style>\n",
       "<table border=\"1\" class=\"dataframe\">\n",
       "  <thead>\n",
       "    <tr style=\"text-align: right;\">\n",
       "      <th></th>\n",
       "      <th>Player</th>\n",
       "      <th>Pos</th>\n",
       "      <th>3P</th>\n",
       "      <th>2P</th>\n",
       "      <th>TRB</th>\n",
       "      <th>AST</th>\n",
       "      <th>STL</th>\n",
       "      <th>BLK</th>\n",
       "    </tr>\n",
       "  </thead>\n",
       "  <tbody>\n",
       "    <tr>\n",
       "      <th>0</th>\n",
       "      <td>Alex Abrines</td>\n",
       "      <td>SG</td>\n",
       "      <td>1.4</td>\n",
       "      <td>0.6</td>\n",
       "      <td>1.3</td>\n",
       "      <td>0.6</td>\n",
       "      <td>0.5</td>\n",
       "      <td>0.1</td>\n",
       "    </tr>\n",
       "    <tr>\n",
       "      <th>1</th>\n",
       "      <td>Steven Adams</td>\n",
       "      <td>C</td>\n",
       "      <td>0.0</td>\n",
       "      <td>4.7</td>\n",
       "      <td>7.7</td>\n",
       "      <td>1.1</td>\n",
       "      <td>1.1</td>\n",
       "      <td>1.0</td>\n",
       "    </tr>\n",
       "    <tr>\n",
       "      <th>2</th>\n",
       "      <td>Alexis Ajinca</td>\n",
       "      <td>C</td>\n",
       "      <td>0.0</td>\n",
       "      <td>2.3</td>\n",
       "      <td>4.5</td>\n",
       "      <td>0.3</td>\n",
       "      <td>0.5</td>\n",
       "      <td>0.6</td>\n",
       "    </tr>\n",
       "    <tr>\n",
       "      <th>3</th>\n",
       "      <td>Chris Andersen</td>\n",
       "      <td>C</td>\n",
       "      <td>0.0</td>\n",
       "      <td>0.8</td>\n",
       "      <td>2.6</td>\n",
       "      <td>0.4</td>\n",
       "      <td>0.4</td>\n",
       "      <td>0.6</td>\n",
       "    </tr>\n",
       "    <tr>\n",
       "      <th>4</th>\n",
       "      <td>Will Barton</td>\n",
       "      <td>SG</td>\n",
       "      <td>1.5</td>\n",
       "      <td>3.5</td>\n",
       "      <td>4.3</td>\n",
       "      <td>3.4</td>\n",
       "      <td>0.8</td>\n",
       "      <td>0.5</td>\n",
       "    </tr>\n",
       "    <tr>\n",
       "      <th>...</th>\n",
       "      <td>...</td>\n",
       "      <td>...</td>\n",
       "      <td>...</td>\n",
       "      <td>...</td>\n",
       "      <td>...</td>\n",
       "      <td>...</td>\n",
       "      <td>...</td>\n",
       "      <td>...</td>\n",
       "    </tr>\n",
       "    <tr>\n",
       "      <th>95</th>\n",
       "      <td>Nikola Vucevic</td>\n",
       "      <td>C</td>\n",
       "      <td>0.3</td>\n",
       "      <td>6.1</td>\n",
       "      <td>10.4</td>\n",
       "      <td>2.8</td>\n",
       "      <td>1.0</td>\n",
       "      <td>1.0</td>\n",
       "    </tr>\n",
       "    <tr>\n",
       "      <th>96</th>\n",
       "      <td>Dwyane Wade</td>\n",
       "      <td>SG</td>\n",
       "      <td>0.8</td>\n",
       "      <td>6.2</td>\n",
       "      <td>4.5</td>\n",
       "      <td>3.8</td>\n",
       "      <td>1.4</td>\n",
       "      <td>0.7</td>\n",
       "    </tr>\n",
       "    <tr>\n",
       "      <th>97</th>\n",
       "      <td>Dion Waiters</td>\n",
       "      <td>SG</td>\n",
       "      <td>1.8</td>\n",
       "      <td>4.3</td>\n",
       "      <td>3.3</td>\n",
       "      <td>4.3</td>\n",
       "      <td>0.9</td>\n",
       "      <td>0.4</td>\n",
       "    </tr>\n",
       "    <tr>\n",
       "      <th>98</th>\n",
       "      <td>Hassan Whiteside</td>\n",
       "      <td>C</td>\n",
       "      <td>0.0</td>\n",
       "      <td>7.0</td>\n",
       "      <td>14.1</td>\n",
       "      <td>0.7</td>\n",
       "      <td>0.7</td>\n",
       "      <td>2.1</td>\n",
       "    </tr>\n",
       "    <tr>\n",
       "      <th>99</th>\n",
       "      <td>Lou Williams</td>\n",
       "      <td>SG</td>\n",
       "      <td>2.0</td>\n",
       "      <td>3.3</td>\n",
       "      <td>2.5</td>\n",
       "      <td>3.0</td>\n",
       "      <td>1.0</td>\n",
       "      <td>0.2</td>\n",
       "    </tr>\n",
       "  </tbody>\n",
       "</table>\n",
       "<p>100 rows × 8 columns</p>\n",
       "</div>"
      ],
      "text/plain": [
       "              Player Pos   3P   2P   TRB  AST  STL  BLK\n",
       "0       Alex Abrines  SG  1.4  0.6   1.3  0.6  0.5  0.1\n",
       "1       Steven Adams   C  0.0  4.7   7.7  1.1  1.1  1.0\n",
       "2      Alexis Ajinca   C  0.0  2.3   4.5  0.3  0.5  0.6\n",
       "3     Chris Andersen   C  0.0  0.8   2.6  0.4  0.4  0.6\n",
       "4        Will Barton  SG  1.5  3.5   4.3  3.4  0.8  0.5\n",
       "..               ...  ..  ...  ...   ...  ...  ...  ...\n",
       "95    Nikola Vucevic   C  0.3  6.1  10.4  2.8  1.0  1.0\n",
       "96       Dwyane Wade  SG  0.8  6.2   4.5  3.8  1.4  0.7\n",
       "97      Dion Waiters  SG  1.8  4.3   3.3  4.3  0.9  0.4\n",
       "98  Hassan Whiteside   C  0.0  7.0  14.1  0.7  0.7  2.1\n",
       "99      Lou Williams  SG  2.0  3.3   2.5  3.0  1.0  0.2\n",
       "\n",
       "[100 rows x 8 columns]"
      ]
     },
     "execution_count": 3,
     "metadata": {},
     "output_type": "execute_result"
    }
   ],
   "source": [
    "#데이터 수집하기\n",
    "df = pd.read_csv('data/csv/basketball_stat.csv')\n",
    "df"
   ]
  },
  {
   "cell_type": "code",
   "execution_count": 4,
   "id": "0cbec32d",
   "metadata": {},
   "outputs": [
    {
     "data": {
      "text/html": [
       "<div>\n",
       "<style scoped>\n",
       "    .dataframe tbody tr th:only-of-type {\n",
       "        vertical-align: middle;\n",
       "    }\n",
       "\n",
       "    .dataframe tbody tr th {\n",
       "        vertical-align: top;\n",
       "    }\n",
       "\n",
       "    .dataframe thead th {\n",
       "        text-align: right;\n",
       "    }\n",
       "</style>\n",
       "<table border=\"1\" class=\"dataframe\">\n",
       "  <thead>\n",
       "    <tr style=\"text-align: right;\">\n",
       "      <th></th>\n",
       "      <th>Player</th>\n",
       "      <th>Pos</th>\n",
       "      <th>3P</th>\n",
       "      <th>2P</th>\n",
       "      <th>TRB</th>\n",
       "      <th>AST</th>\n",
       "      <th>STL</th>\n",
       "      <th>BLK</th>\n",
       "    </tr>\n",
       "  </thead>\n",
       "  <tbody>\n",
       "    <tr>\n",
       "      <th>0</th>\n",
       "      <td>Alex Abrines</td>\n",
       "      <td>SG</td>\n",
       "      <td>1.4</td>\n",
       "      <td>0.6</td>\n",
       "      <td>1.3</td>\n",
       "      <td>0.6</td>\n",
       "      <td>0.5</td>\n",
       "      <td>0.1</td>\n",
       "    </tr>\n",
       "    <tr>\n",
       "      <th>1</th>\n",
       "      <td>Steven Adams</td>\n",
       "      <td>C</td>\n",
       "      <td>0.0</td>\n",
       "      <td>4.7</td>\n",
       "      <td>7.7</td>\n",
       "      <td>1.1</td>\n",
       "      <td>1.1</td>\n",
       "      <td>1.0</td>\n",
       "    </tr>\n",
       "    <tr>\n",
       "      <th>2</th>\n",
       "      <td>Alexis Ajinca</td>\n",
       "      <td>C</td>\n",
       "      <td>0.0</td>\n",
       "      <td>2.3</td>\n",
       "      <td>4.5</td>\n",
       "      <td>0.3</td>\n",
       "      <td>0.5</td>\n",
       "      <td>0.6</td>\n",
       "    </tr>\n",
       "    <tr>\n",
       "      <th>3</th>\n",
       "      <td>Chris Andersen</td>\n",
       "      <td>C</td>\n",
       "      <td>0.0</td>\n",
       "      <td>0.8</td>\n",
       "      <td>2.6</td>\n",
       "      <td>0.4</td>\n",
       "      <td>0.4</td>\n",
       "      <td>0.6</td>\n",
       "    </tr>\n",
       "    <tr>\n",
       "      <th>4</th>\n",
       "      <td>Will Barton</td>\n",
       "      <td>SG</td>\n",
       "      <td>1.5</td>\n",
       "      <td>3.5</td>\n",
       "      <td>4.3</td>\n",
       "      <td>3.4</td>\n",
       "      <td>0.8</td>\n",
       "      <td>0.5</td>\n",
       "    </tr>\n",
       "  </tbody>\n",
       "</table>\n",
       "</div>"
      ],
      "text/plain": [
       "           Player Pos   3P   2P  TRB  AST  STL  BLK\n",
       "0    Alex Abrines  SG  1.4  0.6  1.3  0.6  0.5  0.1\n",
       "1    Steven Adams   C  0.0  4.7  7.7  1.1  1.1  1.0\n",
       "2   Alexis Ajinca   C  0.0  2.3  4.5  0.3  0.5  0.6\n",
       "3  Chris Andersen   C  0.0  0.8  2.6  0.4  0.4  0.6\n",
       "4     Will Barton  SG  1.5  3.5  4.3  3.4  0.8  0.5"
      ]
     },
     "execution_count": 4,
     "metadata": {},
     "output_type": "execute_result"
    }
   ],
   "source": [
    "#수집된 데이터 샘플 확인\n",
    "df.head()"
   ]
  },
  {
   "cell_type": "code",
   "execution_count": 55,
   "id": "0109dd55",
   "metadata": {},
   "outputs": [
    {
     "data": {
      "text/html": [
       "<div>\n",
       "<style scoped>\n",
       "    .dataframe tbody tr th:only-of-type {\n",
       "        vertical-align: middle;\n",
       "    }\n",
       "\n",
       "    .dataframe tbody tr th {\n",
       "        vertical-align: top;\n",
       "    }\n",
       "\n",
       "    .dataframe thead th {\n",
       "        text-align: right;\n",
       "    }\n",
       "</style>\n",
       "<table border=\"1\" class=\"dataframe\">\n",
       "  <thead>\n",
       "    <tr style=\"text-align: right;\">\n",
       "      <th></th>\n",
       "      <th>설명</th>\n",
       "    </tr>\n",
       "    <tr>\n",
       "      <th>약어</th>\n",
       "      <th></th>\n",
       "    </tr>\n",
       "  </thead>\n",
       "  <tbody>\n",
       "    <tr>\n",
       "      <th>Player</th>\n",
       "      <td>선수 이름</td>\n",
       "    </tr>\n",
       "    <tr>\n",
       "      <th>Pos</th>\n",
       "      <td>포지션</td>\n",
       "    </tr>\n",
       "    <tr>\n",
       "      <th>3P</th>\n",
       "      <td>한 경기 평균 3점슛 성공 횟수</td>\n",
       "    </tr>\n",
       "    <tr>\n",
       "      <th>2P</th>\n",
       "      <td>한 경기 평균 2점슛 성공 횟수</td>\n",
       "    </tr>\n",
       "    <tr>\n",
       "      <th>TRB</th>\n",
       "      <td>한 경기 평균 리바운드 성공 횟수</td>\n",
       "    </tr>\n",
       "    <tr>\n",
       "      <th>AST</th>\n",
       "      <td>한 경기 평균 어시스트 성공 횟수</td>\n",
       "    </tr>\n",
       "    <tr>\n",
       "      <th>STL</th>\n",
       "      <td>한 경기 평균 스틸 성공 횟수</td>\n",
       "    </tr>\n",
       "    <tr>\n",
       "      <th>BLK</th>\n",
       "      <td>한 경기 평균 블로킹 성공 횟수</td>\n",
       "    </tr>\n",
       "  </tbody>\n",
       "</table>\n",
       "</div>"
      ],
      "text/plain": [
       "                        설명\n",
       "약어                        \n",
       "Player               선수 이름\n",
       "Pos                    포지션\n",
       "3P       한 경기 평균 3점슛 성공 횟수\n",
       "2P       한 경기 평균 2점슛 성공 횟수\n",
       "TRB     한 경기 평균 리바운드 성공 횟수\n",
       "AST     한 경기 평균 어시스트 성공 횟수\n",
       "STL       한 경기 평균 스틸 성공 횟수\n",
       "BLK      한 경기 평균 블로킹 성공 횟수"
      ]
     },
     "execution_count": 55,
     "metadata": {},
     "output_type": "execute_result"
    }
   ],
   "source": [
    "# 데이터 설명\n",
    "basket = pd.DataFrame({\n",
    "    '약어':['Player', 'Pos', '3P', '2P', 'TRB', 'AST','STL','BLK'],\n",
    "    '설명':['선수 이름', '포지션', '한 경기 평균 3점슛 성공 횟수', '한 경기 평균 2점슛 성공 횟수', '한 경기 평균 리바운드 성공 횟수', '한 경기 평균 어시스트 성공 횟수','한 경기 평균 스틸 성공 횟수','한 경기 평균 블로킹 성공 횟수']\n",
    "})\n",
    "basket = basket.set_index('약어')\n",
    "basket"
   ]
  },
  {
   "cell_type": "code",
   "execution_count": 5,
   "id": "1ef4726e",
   "metadata": {},
   "outputs": [
    {
     "data": {
      "text/plain": [
       "SG    50\n",
       "C     50\n",
       "Name: Pos, dtype: int64"
      ]
     },
     "execution_count": 5,
     "metadata": {},
     "output_type": "execute_result"
    }
   ],
   "source": [
    "#포지션 개수 확인\n",
    "df.Pos.value_counts()"
   ]
  },
  {
   "cell_type": "markdown",
   "id": "aec7813c",
   "metadata": {},
   "source": [
    "- SG : 슈팅가드 포지션\n",
    "    - 코트 내에서 3점슛 등 장거리에서 슛을 해서 점수를 얻는 역할\n",
    "- C : 센터\n",
    "    - 골대, 포스트 근처에서 슛을 블로킹하고, 리바운드하며, 공을 바깥으로 빼줘서 공격 찬스를 만들기도 하며, 골대 근처에서 2점슛으로 득점하기도 함"
   ]
  },
  {
   "cell_type": "markdown",
   "id": "282c769b",
   "metadata": {},
   "source": [
    "### ❗**특징(feature) 설정**"
   ]
  },
  {
   "cell_type": "markdown",
   "id": "323c1788",
   "metadata": {},
   "source": [
    "### 센터와 슈팅가드의 역할을 바탕으로 필요한 속성과 불필요한 속성 구분하기\n",
    "-> 슈팅가드와 센터를 분별할 수 있는 속성 고르기"
   ]
  },
  {
   "cell_type": "code",
   "execution_count": 53,
   "id": "aabcf3e7",
   "metadata": {},
   "outputs": [
    {
     "data": {
      "text/html": [
       "<div>\n",
       "<style scoped>\n",
       "    .dataframe tbody tr th:only-of-type {\n",
       "        vertical-align: middle;\n",
       "    }\n",
       "\n",
       "    .dataframe tbody tr th {\n",
       "        vertical-align: top;\n",
       "    }\n",
       "\n",
       "    .dataframe thead th {\n",
       "        text-align: right;\n",
       "    }\n",
       "</style>\n",
       "<table border=\"1\" class=\"dataframe\">\n",
       "  <thead>\n",
       "    <tr style=\"text-align: right;\">\n",
       "      <th></th>\n",
       "      <th>필요/불필요</th>\n",
       "      <th>이유</th>\n",
       "    </tr>\n",
       "    <tr>\n",
       "      <th>약어</th>\n",
       "      <th></th>\n",
       "      <th></th>\n",
       "    </tr>\n",
       "  </thead>\n",
       "  <tbody>\n",
       "    <tr>\n",
       "      <th>3P</th>\n",
       "      <td>O</td>\n",
       "      <td>슈팅가드의 주요 역할은 3점슛 득점을 하는 것이며, 센터의 역할은 3점슛</td>\n",
       "    </tr>\n",
       "    <tr>\n",
       "      <th>2P</th>\n",
       "      <td>X</td>\n",
       "      <td>슈팅가드와 센터 모두 2점 득점을 많이 한다. 분별력이 없는 속성임</td>\n",
       "    </tr>\n",
       "    <tr>\n",
       "      <th>TRB</th>\n",
       "      <td>O</td>\n",
       "      <td>센터는 슈팅가드보다 리바운드의 개수가 많을 것이기에 분별력 있는 속성</td>\n",
       "    </tr>\n",
       "    <tr>\n",
       "      <th>AST</th>\n",
       "      <td>X</td>\n",
       "      <td>슈팅가드와 센터 모두 어시스트를 많이 한다. 포지션과 상관 없는 속성</td>\n",
       "    </tr>\n",
       "    <tr>\n",
       "      <th>STL</th>\n",
       "      <td>X</td>\n",
       "      <td>슈팅가드와 센터 모두 스틸을 많이 한다. 분별력이 없는 속성</td>\n",
       "    </tr>\n",
       "    <tr>\n",
       "      <th>BLK</th>\n",
       "      <td>O</td>\n",
       "      <td>센터는 슈팅가드에 비해 블로킹의 횟수가 많을 것이기에 분별력 있는 속성임</td>\n",
       "    </tr>\n",
       "  </tbody>\n",
       "</table>\n",
       "</div>"
      ],
      "text/plain": [
       "    필요/불필요                                         이유\n",
       "약어                                                   \n",
       "3P       O  슈팅가드의 주요 역할은 3점슛 득점을 하는 것이며, 센터의 역할은 3점슛 \n",
       "2P       X      슈팅가드와 센터 모두 2점 득점을 많이 한다. 분별력이 없는 속성임\n",
       "TRB      O     센터는 슈팅가드보다 리바운드의 개수가 많을 것이기에 분별력 있는 속성\n",
       "AST      X     슈팅가드와 센터 모두 어시스트를 많이 한다. 포지션과 상관 없는 속성\n",
       "STL      X          슈팅가드와 센터 모두 스틸을 많이 한다. 분별력이 없는 속성\n",
       "BLK      O   센터는 슈팅가드에 비해 블로킹의 횟수가 많을 것이기에 분별력 있는 속성임"
      ]
     },
     "execution_count": 53,
     "metadata": {},
     "output_type": "execute_result"
    }
   ],
   "source": [
    "feature = pd.DataFrame({\n",
    "    '약어':['3P', '2P', 'TRB', 'AST', 'STL', 'BLK'],\n",
    "    '필요/불필요':['O', 'X', 'O', 'X', 'X', 'O'],\n",
    "    '이유':['슈팅가드의 주요 역할은 3점슛 득점을 하는 것이며, 센터의 역할은 3점슛 ',\n",
    "         '슈팅가드와 센터 모두 2점 득점을 많이 한다. 분별력이 없는 속성임',\n",
    "         '센터는 슈팅가드보다 리바운드의 개수가 많을 것이기에 분별력 있는 속성',\n",
    "         '슈팅가드와 센터 모두 어시스트를 많이 한다. 포지션과 상관 없는 속성',\n",
    "         '슈팅가드와 센터 모두 스틸을 많이 한다. 분별력이 없는 속성',\n",
    "         '센터는 슈팅가드에 비해 블로킹의 횟수가 많을 것이기에 분별력 있는 속성임']\n",
    "})\n",
    "feature = feature.set_index('약어')\n",
    "feature"
   ]
  },
  {
   "cell_type": "markdown",
   "id": "a89c18d2",
   "metadata": {},
   "source": [
    "### ------> 하지만 이는 가설일 뿐. 이 가설을 입증할 근거가 부족하므로 데이터 시각화를 통해 사실성을 입증함"
   ]
  },
  {
   "cell_type": "markdown",
   "id": "5ac42838",
   "metadata": {},
   "source": [
    "## 3. 데이터 시각화"
   ]
  },
  {
   "cell_type": "code",
   "execution_count": 8,
   "id": "6c637b90",
   "metadata": {},
   "outputs": [],
   "source": [
    "import matplotlib.pyplot as plt\n",
    "import seaborn as sns\n",
    "%matplotlib inline\n",
    "#%matplotlib inline : notebook을 실행한 브라우저에서 바로 그림을 볼 수 있게 함"
   ]
  },
  {
   "cell_type": "markdown",
   "id": "e8a7601d",
   "metadata": {},
   "source": [
    "### - x축 : 스틸, y축 : 2점슛 그래프 상에서 슈팅가드와 센터 데이터의 분포도"
   ]
  },
  {
   "cell_type": "code",
   "execution_count": 12,
   "id": "9f9839fc",
   "metadata": {
    "scrolled": true
   },
   "outputs": [
    {
     "name": "stderr",
     "output_type": "stream",
     "text": [
      "C:\\Users\\ksjpt\\anaconda3\\lib\\site-packages\\seaborn\\_decorators.py:36: FutureWarning: Pass the following variables as keyword args: x, y. From version 0.12, the only valid positional argument will be `data`, and passing other arguments without an explicit keyword will result in an error or misinterpretation.\n",
      "  warnings.warn(\n"
     ]
    },
    {
     "data": {
      "text/plain": [
       "Text(0.5, 1.0, 'STL and 2P in 2d plane')"
      ]
     },
     "execution_count": 12,
     "metadata": {},
     "output_type": "execute_result"
    },
    {
     "data": {
      "image/png": "[encoded data removed]",
      "text/plain": [
       "<Figure size 410x360 with 1 Axes>"
      ]
     },
     "metadata": {
      "needs_background": "light"
     },
     "output_type": "display_data"
    }
   ],
   "source": [
    "#스틸, 2점슛 데이터 시각화\n",
    "sns.lmplot('STL', '2P', data=df, fit_reg=False, # x축, y축, 데이터, 노라인\n",
    "          scatter_kws={\"s\":150},  # 좌표 상의 점의 크기\n",
    "          markers=[\"o\", \"x\"], # 점 모양\n",
    "          hue=\"Pos\") # 예측값\n",
    "# 제목\n",
    "plt.title('STL and 2P in 2d plane')"
   ]
  },
  {
   "cell_type": "markdown",
   "id": "c0364448",
   "metadata": {},
   "source": [
    "### - x축 : 어시스트, y축 : 2점슛 그래프 상에서 슈팅가드와 센터 데이터의 분포도"
   ]
  },
  {
   "cell_type": "code",
   "execution_count": 13,
   "id": "286bfd49",
   "metadata": {},
   "outputs": [
    {
     "name": "stderr",
     "output_type": "stream",
     "text": [
      "C:\\Users\\ksjpt\\anaconda3\\lib\\site-packages\\seaborn\\_decorators.py:36: FutureWarning: Pass the following variables as keyword args: x, y. From version 0.12, the only valid positional argument will be `data`, and passing other arguments without an explicit keyword will result in an error or misinterpretation.\n",
      "  warnings.warn(\n"
     ]
    },
    {
     "data": {
      "text/plain": [
       "Text(0.5, 1.0, 'AST and 2P in 2d plane')"
      ]
     },
     "execution_count": 13,
     "metadata": {},
     "output_type": "execute_result"
    },
    {
     "data": {
      "image/png": "[encoded data removed]",
      "text/plain": [
       "<Figure size 410x360 with 1 Axes>"
      ]
     },
     "metadata": {
      "needs_background": "light"
     },
     "output_type": "display_data"
    }
   ],
   "source": [
    "#어시스트, 2점슛 데이터 시각화\n",
    "sns.lmplot('AST', '2P', data=df, fit_reg=False, # x축, y축, 데이터, 노라인\n",
    "          scatter_kws={\"s\":150},  # 좌표 상의 점의 크기\n",
    "          markers=[\"o\", \"x\"], # 점 모양\n",
    "          hue=\"Pos\") # 예측값\n",
    "# 제목\n",
    "plt.title('AST and 2P in 2d plane')"
   ]
  },
  {
   "cell_type": "markdown",
   "id": "bc69f79e",
   "metadata": {},
   "source": [
    "### ✔알 수 있는 점: 가설과 같이 2점슛, 어시스트, 스틸의 속성 --> 슈팅가드와 센터의 경계가 근접해 분류하기 모호함"
   ]
  },
  {
   "cell_type": "markdown",
   "id": "bdf305e7",
   "metadata": {},
   "source": [
    "### - x축 : 블로킹, y축 : 3점슛 그래프 상에서 슈팅가드와 센터 데이터의 분포도"
   ]
  },
  {
   "cell_type": "code",
   "execution_count": 15,
   "id": "e5391fd2",
   "metadata": {
    "scrolled": true
   },
   "outputs": [
    {
     "name": "stderr",
     "output_type": "stream",
     "text": [
      "C:\\Users\\ksjpt\\anaconda3\\lib\\site-packages\\seaborn\\_decorators.py:36: FutureWarning: Pass the following variables as keyword args: x, y. From version 0.12, the only valid positional argument will be `data`, and passing other arguments without an explicit keyword will result in an error or misinterpretation.\n",
      "  warnings.warn(\n"
     ]
    },
    {
     "data": {
      "text/plain": [
       "Text(0.5, 1.0, 'BLK and 3P in 2d plane')"
      ]
     },
     "execution_count": 15,
     "metadata": {},
     "output_type": "execute_result"
    },
    {
     "data": {
      "image/png": "[encoded data removed]",
      "text/plain": [
       "<Figure size 410x360 with 1 Axes>"
      ]
     },
     "metadata": {
      "needs_background": "light"
     },
     "output_type": "display_data"
    }
   ],
   "source": [
    "# 블로킹, 3점슛 데이터 시각화\n",
    "sns.lmplot('BLK', '3P', data=df, fit_reg=False, # x축, y축, 데이터, 노라인\n",
    "          scatter_kws={\"s\":150},  # 좌표 상의 점의 크기\n",
    "          markers=[\"o\", \"x\"], # 점 모양\n",
    "          hue=\"Pos\") # 예측값\n",
    "# 제목\n",
    "plt.title('BLK and 3P in 2d plane')"
   ]
  },
  {
   "cell_type": "markdown",
   "id": "e7b9c487",
   "metadata": {},
   "source": [
    "### - x축 : 리바운드, y축 : 3점슛 그래프 상에서 슈팅가드와 센터 데이터의 분포도"
   ]
  },
  {
   "cell_type": "code",
   "execution_count": 16,
   "id": "d4b2e359",
   "metadata": {},
   "outputs": [
    {
     "name": "stderr",
     "output_type": "stream",
     "text": [
      "C:\\Users\\ksjpt\\anaconda3\\lib\\site-packages\\seaborn\\_decorators.py:36: FutureWarning: Pass the following variables as keyword args: x, y. From version 0.12, the only valid positional argument will be `data`, and passing other arguments without an explicit keyword will result in an error or misinterpretation.\n",
      "  warnings.warn(\n"
     ]
    },
    {
     "data": {
      "text/plain": [
       "Text(0.5, 1.0, 'TRB and 3P in 2d plane')"
      ]
     },
     "execution_count": 16,
     "metadata": {},
     "output_type": "execute_result"
    },
    {
     "data": {
      "image/png": "[encoded data removed]",
      "text/plain": [
       "<Figure size 410x360 with 1 Axes>"
      ]
     },
     "metadata": {
      "needs_background": "light"
     },
     "output_type": "display_data"
    }
   ],
   "source": [
    "# 블로킹, 3점슛 데이터 시각화\n",
    "sns.lmplot('TRB', '3P', data=df, fit_reg=False, # x축, y축, 데이터, 노라인\n",
    "          scatter_kws={\"s\":150},  # 좌표 상의 점의 크기\n",
    "          markers=[\"o\", \"x\"], # 점 모양\n",
    "          hue=\"Pos\") # 예측값\n",
    "# 제목\n",
    "plt.title('TRB and 3P in 2d plane')"
   ]
  },
  {
   "cell_type": "markdown",
   "id": "d5eb8b51",
   "metadata": {},
   "source": [
    "## 4. 데이터 다듬기"
   ]
  },
  {
   "cell_type": "code",
   "execution_count": 17,
   "id": "d628263f",
   "metadata": {},
   "outputs": [],
   "source": [
    "# 분별력이 없는 특징(feature) 제거 - 2점슛, 어시스트, 스틸 제거\n",
    "df.drop(['2P', 'AST', 'STL'], axis=1, inplace=True) \n",
    "    # aixs=0(index), aixs=1(columns)\n",
    "    # inplace=True : 기존 df에 덮어쓰기"
   ]
  },
  {
   "cell_type": "code",
   "execution_count": 18,
   "id": "5e9dcf18",
   "metadata": {},
   "outputs": [
    {
     "data": {
      "text/html": [
       "<div>\n",
       "<style scoped>\n",
       "    .dataframe tbody tr th:only-of-type {\n",
       "        vertical-align: middle;\n",
       "    }\n",
       "\n",
       "    .dataframe tbody tr th {\n",
       "        vertical-align: top;\n",
       "    }\n",
       "\n",
       "    .dataframe thead th {\n",
       "        text-align: right;\n",
       "    }\n",
       "</style>\n",
       "<table border=\"1\" class=\"dataframe\">\n",
       "  <thead>\n",
       "    <tr style=\"text-align: right;\">\n",
       "      <th></th>\n",
       "      <th>Player</th>\n",
       "      <th>Pos</th>\n",
       "      <th>3P</th>\n",
       "      <th>TRB</th>\n",
       "      <th>BLK</th>\n",
       "    </tr>\n",
       "  </thead>\n",
       "  <tbody>\n",
       "    <tr>\n",
       "      <th>0</th>\n",
       "      <td>Alex Abrines</td>\n",
       "      <td>SG</td>\n",
       "      <td>1.4</td>\n",
       "      <td>1.3</td>\n",
       "      <td>0.1</td>\n",
       "    </tr>\n",
       "    <tr>\n",
       "      <th>1</th>\n",
       "      <td>Steven Adams</td>\n",
       "      <td>C</td>\n",
       "      <td>0.0</td>\n",
       "      <td>7.7</td>\n",
       "      <td>1.0</td>\n",
       "    </tr>\n",
       "    <tr>\n",
       "      <th>2</th>\n",
       "      <td>Alexis Ajinca</td>\n",
       "      <td>C</td>\n",
       "      <td>0.0</td>\n",
       "      <td>4.5</td>\n",
       "      <td>0.6</td>\n",
       "    </tr>\n",
       "    <tr>\n",
       "      <th>3</th>\n",
       "      <td>Chris Andersen</td>\n",
       "      <td>C</td>\n",
       "      <td>0.0</td>\n",
       "      <td>2.6</td>\n",
       "      <td>0.6</td>\n",
       "    </tr>\n",
       "    <tr>\n",
       "      <th>4</th>\n",
       "      <td>Will Barton</td>\n",
       "      <td>SG</td>\n",
       "      <td>1.5</td>\n",
       "      <td>4.3</td>\n",
       "      <td>0.5</td>\n",
       "    </tr>\n",
       "  </tbody>\n",
       "</table>\n",
       "</div>"
      ],
      "text/plain": [
       "           Player Pos   3P  TRB  BLK\n",
       "0    Alex Abrines  SG  1.4  1.3  0.1\n",
       "1    Steven Adams   C  0.0  7.7  1.0\n",
       "2   Alexis Ajinca   C  0.0  4.5  0.6\n",
       "3  Chris Andersen   C  0.0  2.6  0.6\n",
       "4     Will Barton  SG  1.5  4.3  0.5"
      ]
     },
     "execution_count": 18,
     "metadata": {},
     "output_type": "execute_result"
    }
   ],
   "source": [
    "df.head() #다듬어진 데이터 조회"
   ]
  },
  {
   "cell_type": "markdown",
   "id": "378701cf",
   "metadata": {},
   "source": [
    "## 5. 데이터 나누기"
   ]
  },
  {
   "cell_type": "markdown",
   "id": "9190d7b8",
   "metadata": {},
   "source": [
    "- 학습 데이터 , 테스트 데이터 나누기"
   ]
  },
  {
   "cell_type": "code",
   "execution_count": 19,
   "id": "3a4627c7",
   "metadata": {},
   "outputs": [],
   "source": [
    "# 사이키런의 train_test_split을 사용하면 코드 한 줄로 손쉽게 데이터를 나눌 수 있다\n",
    "from sklearn.model_selection import train_test_split"
   ]
  },
  {
   "cell_type": "code",
   "execution_count": 20,
   "id": "59a95e46",
   "metadata": {},
   "outputs": [],
   "source": [
    "# 다듬어진 데이터에서 20% -> 테스트 데이터test, 80% -> 학습 데이터train\n",
    "train, test = train_test_split(df, test_size=0.2)"
   ]
  },
  {
   "cell_type": "code",
   "execution_count": 22,
   "id": "e4d707f0",
   "metadata": {},
   "outputs": [
    {
     "data": {
      "text/plain": [
       "80"
      ]
     },
     "execution_count": 22,
     "metadata": {},
     "output_type": "execute_result"
    }
   ],
   "source": [
    "train.shape[0] #학습 데이터 개수"
   ]
  },
  {
   "cell_type": "code",
   "execution_count": 23,
   "id": "c4af46b3",
   "metadata": {},
   "outputs": [
    {
     "data": {
      "text/plain": [
       "20"
      ]
     },
     "execution_count": 23,
     "metadata": {},
     "output_type": "execute_result"
    }
   ],
   "source": [
    "test.shape[0] #테스트 데이터 개수"
   ]
  },
  {
   "cell_type": "markdown",
   "id": "bc85f1a1",
   "metadata": {},
   "source": [
    "80개의 학습 데이터 속성을 사용해 20개의 테스트 데이터의 포지션을 예측하기"
   ]
  },
  {
   "cell_type": "markdown",
   "id": "4fd8816f",
   "metadata": {},
   "source": [
    "# 6. 최적의 kNN 파라미터 찾기"
   ]
  },
  {
   "cell_type": "markdown",
   "id": "d448adc9",
   "metadata": {},
   "source": [
    "파라미터 : 1개 - 이웃의 개수(k)\n",
    "- k에 따라 모델의 예측값도 달라지므로 예측값이 가장 높은 **최적의 k** 찾기가 중요!!!"
   ]
  },
  {
   "cell_type": "markdown",
   "id": "15198ee0",
   "metadata": {},
   "source": [
    "**검증 데이터를 사용해 가장 예측율이 높은 k값 찾기**\n",
    "- 사이킷런의 train_test_split으로 학습 데이터train --> 학습 데이터 + 검증데이터 나누고 검증데이터의 레이블과 kNN 알고리즘 모델의 예측값 비교하기"
   ]
  },
  {
   "cell_type": "markdown",
   "id": "4355998a",
   "metadata": {},
   "source": [
    "*이번 예제에서는*\n",
    "- 사이킷런의 cross_val_score 사용해 kNN 모델의 교차 검증(cross validation) 수행하기\n",
    "- 교차 검증 : k-fold 교차 검증(기존 데이터를 k개로 나눠서 k번 정확도를 검증하는 방법)"
   ]
  },
  {
   "cell_type": "code",
   "execution_count": 34,
   "id": "7275ed0e",
   "metadata": {},
   "outputs": [],
   "source": [
    "# kNN 라이브러리 추가\n",
    "from sklearn.neighbors import KNeighborsClassifier\n",
    "from sklearn.model_selection import cross_val_score\n",
    "from sklearn.metrics import accuracy_score"
   ]
  },
  {
   "cell_type": "code",
   "execution_count": 35,
   "id": "2abfb038",
   "metadata": {},
   "outputs": [
    {
     "data": {
      "text/plain": [
       "[0.95,\n",
       " 0.9125,\n",
       " 0.9125,\n",
       " 0.925,\n",
       " 0.9125,\n",
       " 0.9125,\n",
       " 0.9125,\n",
       " 0.9,\n",
       " 0.9,\n",
       " 0.9,\n",
       " 0.9,\n",
       " 0.8625,\n",
       " 0.8375,\n",
       " 0.8375,\n",
       " 0.8375,\n",
       " 0.825,\n",
       " 0.825,\n",
       " 0.825,\n",
       " 0.8]"
      ]
     },
     "execution_count": 35,
     "metadata": {},
     "output_type": "execute_result"
    }
   ],
   "source": [
    "# 최적의 k를 찾기 위해 교차 검증을 수행할 k의 범위를 3부터 학습 데이터 절반까지 지정\n",
    "max_k_range = train.shape[0] // 2     #절반까지\n",
    "k_list = []\n",
    "for i in range(3, max_k_range, 2): # 3부터 절반까지 홀수만\n",
    "    k_list.append(i)\n",
    "\n",
    "cross_validation_scores = []       # 교차 검증 점수 (정확도)\n",
    "x_train = train[['3P', 'BLK', 'TRB']]\n",
    "y_train = train[['Pos']]\n",
    "\n",
    "# 교차 검증(10-fold)을 각 k를 대상으로 수행해 검증 결과를 저장\n",
    "for k in k_list:\n",
    "    knn = KNeighborsClassifier(n_neighbors=k)\n",
    "    scores = cross_val_score(knn, x_train, y_train.values.ravel(), cv=10,\n",
    "                            scoring='accuracy')\n",
    "    cross_validation_scores.append(scores.mean())    # 정확도의 평균 저장\n",
    "    \n",
    "cross_validation_scores"
   ]
  },
  {
   "cell_type": "code",
   "execution_count": 36,
   "id": "1f2aacf6",
   "metadata": {},
   "outputs": [
    {
     "data": {
      "image/png": "[encoded data removed]",
      "text/plain": [
       "<Figure size 432x288 with 1 Axes>"
      ]
     },
     "metadata": {
      "needs_background": "light"
     },
     "output_type": "display_data"
    }
   ],
   "source": [
    "# k에 따른 정확도 시각화\n",
    "plt.plot(k_list, cross_validation_scores)\n",
    "plt.xlabel('the number of k')\n",
    "plt.ylabel('Accuracy')\n",
    "plt.show()"
   ]
  },
  {
   "cell_type": "markdown",
   "id": "fb8be57f",
   "metadata": {},
   "source": [
    "**알 수 있는 점**\n",
    "- 최적의 k : 3\n",
    "- k가 25를 넘으면 정확도가 급격히 떨어짐"
   ]
  },
  {
   "cell_type": "code",
   "execution_count": 37,
   "id": "ca18a313",
   "metadata": {},
   "outputs": [
    {
     "name": "stdout",
     "output_type": "stream",
     "text": [
      "The best number of k : 3\n"
     ]
    }
   ],
   "source": [
    "# 가장 예측율이 높은 k를 선정\n",
    "optimal_k = k_list[cross_validation_scores.index(max(cross_validation_scores))]\n",
    "print(\"The best number of k : \" + str(optimal_k))"
   ]
  },
  {
   "cell_type": "markdown",
   "id": "ee92b421",
   "metadata": {},
   "source": [
    "## 7. 모델 테스트"
   ]
  },
  {
   "cell_type": "markdown",
   "id": "c69cfe04",
   "metadata": {},
   "source": [
    "- 분별력이 있다고 판단된 3점슛, 블로킹, 리바운드 속성으로 kNN 모델 학습 -> 테스트"
   ]
  },
  {
   "cell_type": "code",
   "execution_count": 43,
   "id": "25b629ac",
   "metadata": {},
   "outputs": [
    {
     "name": "stdout",
     "output_type": "stream",
     "text": [
      "accuracy : 0.9\n"
     ]
    }
   ],
   "source": [
    "knn = KNeighborsClassifier(n_neighbors=optimal_k)\n",
    "\n",
    "# 학습에 사용될 속성을 지정\n",
    "x_train = train[['3P', 'BLK', 'TRB']]\n",
    "# 선수 포지션을 예측할 값으로 지정\n",
    "y_train = train[['Pos']]\n",
    "\n",
    "# kNN 모델 학습\n",
    "knn.fit(x_train, y_train.values.ravel())\n",
    "\n",
    "#테스트 데이터에서 분류를 위해 사용될 속성을 지정\n",
    "x_test = test[['3P', 'BLK', 'TRB']]\n",
    "# 선수 포지션에 대한 정답을 지정\n",
    "y_test = test[['Pos']]\n",
    "\n",
    "# 테스트 시작\n",
    "pred = knn.predict(x_test)\n",
    "\n",
    "# 모델 예측 정확도(accuracy) 출력\n",
    "print(\"accuracy : \" + str(accuracy_score(y_test.values.ravel(), pred)))"
   ]
  },
  {
   "cell_type": "code",
   "execution_count": 44,
   "id": "2fce5be5",
   "metadata": {},
   "outputs": [
    {
     "data": {
      "text/html": [
       "<div>\n",
       "<style scoped>\n",
       "    .dataframe tbody tr th:only-of-type {\n",
       "        vertical-align: middle;\n",
       "    }\n",
       "\n",
       "    .dataframe tbody tr th {\n",
       "        vertical-align: top;\n",
       "    }\n",
       "\n",
       "    .dataframe thead th {\n",
       "        text-align: right;\n",
       "    }\n",
       "</style>\n",
       "<table border=\"1\" class=\"dataframe\">\n",
       "  <thead>\n",
       "    <tr style=\"text-align: right;\">\n",
       "      <th></th>\n",
       "      <th>예측</th>\n",
       "      <th>실제값</th>\n",
       "    </tr>\n",
       "  </thead>\n",
       "  <tbody>\n",
       "    <tr>\n",
       "      <th>0</th>\n",
       "      <td>C</td>\n",
       "      <td>C</td>\n",
       "    </tr>\n",
       "    <tr>\n",
       "      <th>1</th>\n",
       "      <td>C</td>\n",
       "      <td>C</td>\n",
       "    </tr>\n",
       "    <tr>\n",
       "      <th>2</th>\n",
       "      <td>C</td>\n",
       "      <td>C</td>\n",
       "    </tr>\n",
       "    <tr>\n",
       "      <th>3</th>\n",
       "      <td>SG</td>\n",
       "      <td>SG</td>\n",
       "    </tr>\n",
       "    <tr>\n",
       "      <th>4</th>\n",
       "      <td>SG</td>\n",
       "      <td>SG</td>\n",
       "    </tr>\n",
       "    <tr>\n",
       "      <th>5</th>\n",
       "      <td>C</td>\n",
       "      <td>C</td>\n",
       "    </tr>\n",
       "    <tr>\n",
       "      <th>6</th>\n",
       "      <td>C</td>\n",
       "      <td>C</td>\n",
       "    </tr>\n",
       "    <tr>\n",
       "      <th>7</th>\n",
       "      <td>C</td>\n",
       "      <td>C</td>\n",
       "    </tr>\n",
       "    <tr>\n",
       "      <th>8</th>\n",
       "      <td>SG</td>\n",
       "      <td>C</td>\n",
       "    </tr>\n",
       "    <tr>\n",
       "      <th>9</th>\n",
       "      <td>C</td>\n",
       "      <td>C</td>\n",
       "    </tr>\n",
       "    <tr>\n",
       "      <th>10</th>\n",
       "      <td>SG</td>\n",
       "      <td>SG</td>\n",
       "    </tr>\n",
       "    <tr>\n",
       "      <th>11</th>\n",
       "      <td>SG</td>\n",
       "      <td>SG</td>\n",
       "    </tr>\n",
       "    <tr>\n",
       "      <th>12</th>\n",
       "      <td>C</td>\n",
       "      <td>C</td>\n",
       "    </tr>\n",
       "    <tr>\n",
       "      <th>13</th>\n",
       "      <td>SG</td>\n",
       "      <td>SG</td>\n",
       "    </tr>\n",
       "    <tr>\n",
       "      <th>14</th>\n",
       "      <td>C</td>\n",
       "      <td>SG</td>\n",
       "    </tr>\n",
       "    <tr>\n",
       "      <th>15</th>\n",
       "      <td>C</td>\n",
       "      <td>C</td>\n",
       "    </tr>\n",
       "    <tr>\n",
       "      <th>16</th>\n",
       "      <td>SG</td>\n",
       "      <td>SG</td>\n",
       "    </tr>\n",
       "    <tr>\n",
       "      <th>17</th>\n",
       "      <td>SG</td>\n",
       "      <td>SG</td>\n",
       "    </tr>\n",
       "    <tr>\n",
       "      <th>18</th>\n",
       "      <td>C</td>\n",
       "      <td>C</td>\n",
       "    </tr>\n",
       "    <tr>\n",
       "      <th>19</th>\n",
       "      <td>C</td>\n",
       "      <td>C</td>\n",
       "    </tr>\n",
       "  </tbody>\n",
       "</table>\n",
       "</div>"
      ],
      "text/plain": [
       "    예측 실제값\n",
       "0    C   C\n",
       "1    C   C\n",
       "2    C   C\n",
       "3   SG  SG\n",
       "4   SG  SG\n",
       "5    C   C\n",
       "6    C   C\n",
       "7    C   C\n",
       "8   SG   C\n",
       "9    C   C\n",
       "10  SG  SG\n",
       "11  SG  SG\n",
       "12   C   C\n",
       "13  SG  SG\n",
       "14   C  SG\n",
       "15   C   C\n",
       "16  SG  SG\n",
       "17  SG  SG\n",
       "18   C   C\n",
       "19   C   C"
      ]
     },
     "execution_count": 44,
     "metadata": {},
     "output_type": "execute_result"
    }
   ],
   "source": [
    "# 실제 데이터가 어떻게 분류되었는지 확인하고 싶으면\n",
    "comparison = pd.DataFrame({\n",
    "    \"예측\" : pred,\n",
    "    \"실제값\" : y_test.values.ravel()\n",
    "})\n",
    "comparison"
   ]
  },
  {
   "cell_type": "markdown",
   "id": "24eb3515",
   "metadata": {},
   "source": [
    "# 성공적으로 예측!"
   ]
  }
 ],
 "metadata": {
  "kernelspec": {
   "display_name": "Python 3 (ipykernel)",
   "language": "python",
   "name": "python3"
  },
  "language_info": {
   "codemirror_mode": {
    "name": "ipython",
    "version": 3
   },
   "file_extension": ".py",
   "mimetype": "text/x-python",
   "name": "python",
   "nbconvert_exporter": "python",
   "pygments_lexer": "ipython3",
   "version": "3.9.7"
  }
 },
 "nbformat": 4,
 "nbformat_minor": 5
}
